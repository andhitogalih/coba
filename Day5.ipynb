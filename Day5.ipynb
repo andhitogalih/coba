{
 "cells": [
  {
   "cell_type": "code",
   "execution_count": null,
   "id": "0d5dad19-c6f4-4a94-af0d-324230a5c314",
   "metadata": {},
   "outputs": [],
   "source": [
    "# angka= int(input())\n",
    "\n",
    "# while (angka <3 )\n",
    "#    print(\"bilangan\")"
   ]
  },
  {
   "cell_type": "code",
   "execution_count": 2,
   "id": "26f7d240-b8d7-425c-9026-2bafad385e10",
   "metadata": {},
   "outputs": [
    {
     "name": "stdin",
     "output_type": "stream",
     "text": [
      " 0\n"
     ]
    },
    {
     "name": "stdout",
     "output_type": "stream",
     "text": [
      "bilangan 0\n",
      "bilangan 1\n",
      "bilangan 2\n"
     ]
    }
   ],
   "source": [
    "angka= int(input())\n",
    "\n",
    "while (angka <3):\n",
    "    print(\"bilangan {}\".format(angka))\n",
    "    angka = angka + 1 "
   ]
  },
  {
   "cell_type": "code",
   "execution_count": null,
   "id": "25249972-8712-47d8-a6df-6cc1823bebcd",
   "metadata": {},
   "outputs": [],
   "source": [
    "angka "
   ]
  },
  {
   "cell_type": "code",
   "execution_count": 3,
   "id": "5b64ab9c-73bb-4fd1-bfac-59c9e7fbe218",
   "metadata": {},
   "outputs": [
    {
     "name": "stdout",
     "output_type": "stream",
     "text": [
      "1\n",
      "2\n",
      "3\n",
      "4\n",
      "5\n"
     ]
    }
   ],
   "source": [
    "i = 1\n",
    "while i < 6:\n",
    "  print(i)\n",
    "  i += 1"
   ]
  },
  {
   "cell_type": "code",
   "execution_count": null,
   "id": "11bbd4da-8277-4e7d-abdc-507f2d17b877",
   "metadata": {},
   "outputs": [],
   "source": []
  },
  {
   "cell_type": "code",
   "execution_count": 8,
   "id": "73385e38-6d57-4d7d-b8dc-20246d45e371",
   "metadata": {},
   "outputs": [
    {
     "name": "stdin",
     "output_type": "stream",
     "text": [
      " 10\n"
     ]
    }
   ],
   "source": [
    "angka= int(input())\n",
    "\n",
    "while (angka < 10):\n",
    "    print(\"bilangan {}\".format(angka))\n",
    "    angka = angka + 2"
   ]
  },
  {
   "cell_type": "code",
   "execution_count": 9,
   "id": "97525128-8a30-41d8-aae0-c267d057bd86",
   "metadata": {},
   "outputs": [
    {
     "name": "stdin",
     "output_type": "stream",
     "text": [
      " 10\n"
     ]
    }
   ],
   "source": [
    "angka= int(input())\n",
    "\n",
    "while (angka < 10):\n",
    "    angka = angka + 2\n",
    "    print(\"bilangan {}\".format(angka))"
   ]
  },
  {
   "cell_type": "code",
   "execution_count": 5,
   "id": "c702fd1e-5471-4fd4-bdda-a0bd383d0ba3",
   "metadata": {},
   "outputs": [
    {
     "name": "stdin",
     "output_type": "stream",
     "text": [
      " 1\n"
     ]
    },
    {
     "name": "stdout",
     "output_type": "stream",
     "text": [
      "3\n",
      "5\n",
      "7\n",
      "9\n",
      "11\n",
      "loop selesai\n"
     ]
    }
   ],
   "source": [
    "angka = int(input())\n",
    "\n",
    "while (angka <10):\n",
    "    angka = angka +2\n",
    "    if angka == 6:\n",
    "        break\n",
    "    print(angka)\n",
    "else:\n",
    "    print(\"loop selesai\")"
   ]
  },
  {
   "cell_type": "code",
   "execution_count": 7,
   "id": "4df9c675-d101-4833-97ed-82125eb9386d",
   "metadata": {},
   "outputs": [
    {
     "name": "stdin",
     "output_type": "stream",
     "text": [
      " 10\n"
     ]
    },
    {
     "name": "stdout",
     "output_type": "stream",
     "text": [
      "8\n",
      "6\n",
      "4\n",
      "2\n",
      "0\n",
      "loop selesai\n"
     ]
    }
   ],
   "source": [
    "angka = int(input())\n",
    "\n",
    "while (angka > 0):\n",
    "    angka = angka - 2\n",
    "    print(angka)\n",
    "else:\n",
    "    print(\"loop selesai\")"
   ]
  },
  {
   "cell_type": "code",
   "execution_count": 10,
   "id": "d0a15335-57b4-40ce-93ed-1e49eddb6cfc",
   "metadata": {},
   "outputs": [],
   "source": [
    "# list comperhension\n",
    "angka = [2,3,4]"
   ]
  },
  {
   "cell_type": "code",
   "execution_count": 11,
   "id": "7c17d755-893f-403b-b3c2-02381378a252",
   "metadata": {},
   "outputs": [],
   "source": [
    "kubik = []"
   ]
  },
  {
   "cell_type": "code",
   "execution_count": 12,
   "id": "d45d44ce-f035-4508-82a2-8dfa714c26a3",
   "metadata": {},
   "outputs": [
    {
     "name": "stdout",
     "output_type": "stream",
     "text": [
      "[8, 27, 64]\n"
     ]
    }
   ],
   "source": [
    "for i in angka:\n",
    "    kubik.append(i**3)\n",
    "print(kubik)"
   ]
  },
  {
   "cell_type": "code",
   "execution_count": 13,
   "id": "1950ec4f-f65f-411a-a8a7-74af45afe4a0",
   "metadata": {},
   "outputs": [
    {
     "name": "stdout",
     "output_type": "stream",
     "text": [
      "[8, 27, 64]\n"
     ]
    }
   ],
   "source": [
    "print(kubik)"
   ]
  },
  {
   "cell_type": "code",
   "execution_count": 14,
   "id": "44d01cf2-1121-4583-ad6e-122b7bdbc1fa",
   "metadata": {},
   "outputs": [],
   "source": [
    "angka = [2,3,4]"
   ]
  },
  {
   "cell_type": "code",
   "execution_count": 15,
   "id": "b6b9a312-cfc5-4856-b6b0-b9db98a8f004",
   "metadata": {},
   "outputs": [],
   "source": [
    "kubik = [i**3 for i in angka]"
   ]
  },
  {
   "cell_type": "code",
   "execution_count": 16,
   "id": "307eb0ef-bb7b-4b71-a25e-7af9a8658e87",
   "metadata": {},
   "outputs": [
    {
     "name": "stdout",
     "output_type": "stream",
     "text": [
      "[8, 27, 64]\n"
     ]
    }
   ],
   "source": [
    "print(kubik)"
   ]
  },
  {
   "cell_type": "code",
   "execution_count": 17,
   "id": "41ac01dc-eef7-43f9-86e4-308c7ac4e436",
   "metadata": {},
   "outputs": [
    {
     "name": "stdout",
     "output_type": "stream",
     "text": [
      "[1, 4, 9, 16, 25]\n"
     ]
    }
   ],
   "source": [
    "numbers = [1, 2, 3, 4, 5] \n",
    "squared = [x ** 2 for x in numbers] \n",
    "print(squared)"
   ]
  },
  {
   "cell_type": "code",
   "execution_count": 18,
   "id": "555518ab-444f-4ccf-9d1e-f1c12dc17ba9",
   "metadata": {},
   "outputs": [],
   "source": [
    "numbers = [1, 2, 3, 4, 5] "
   ]
  },
  {
   "cell_type": "code",
   "execution_count": 21,
   "id": "8be58053-43db-4b85-98c8-f316b3475b30",
   "metadata": {},
   "outputs": [
    {
     "name": "stdout",
     "output_type": "stream",
     "text": [
      "[1, 4, 9, 16, 25, 1, 32, 243, 1024, 3125, 1, 32, 243, 1024, 3125, 1, 4, 9, 16, 25]\n"
     ]
    }
   ],
   "source": [
    "for x  in numbers:\n",
    "    squared.append(x ** 2)\n",
    "print(squared)"
   ]
  },
  {
   "cell_type": "code",
   "execution_count": null,
   "id": "c7457b79-1704-498e-89cf-996d99e922ed",
   "metadata": {},
   "outputs": [],
   "source": []
  },
  {
   "cell_type": "code",
   "execution_count": 23,
   "id": "473cf316-5448-495c-ad87-676284bf29f6",
   "metadata": {},
   "outputs": [
    {
     "name": "stdout",
     "output_type": "stream",
     "text": [
      "['c']\n"
     ]
    }
   ],
   "source": [
    "abc = ['a', 'b', 'c']\n",
    "cde = ['c', 'd', 'e']\n",
    "\n",
    "duplikat = [ ]\n",
    "\n",
    "for i in abc:\n",
    "    for j in cde:\n",
    "        if i == j:\n",
    "            duplikat.append(i)\n",
    "print(duplikat)"
   ]
  },
  {
   "cell_type": "code",
   "execution_count": 24,
   "id": "7c91bb44-f073-4e0a-a3c8-33227c9f8ccf",
   "metadata": {},
   "outputs": [
    {
     "name": "stdout",
     "output_type": "stream",
     "text": [
      "['c']\n"
     ]
    }
   ],
   "source": [
    "abc = ['a', 'b', 'c']\n",
    "cde = ['c', 'd', 'e']\n",
    "\n",
    "duplikat = [i for i in abc for j in cde if i == j]\n",
    "\n",
    "print(duplikat)"
   ]
  },
  {
   "cell_type": "code",
   "execution_count": 27,
   "id": "d59ad5e3-af1e-4f70-957d-bf34914eb62e",
   "metadata": {},
   "outputs": [
    {
     "name": "stdout",
     "output_type": "stream",
     "text": [
      "['DATA', 'ANALYST']\n"
     ]
    }
   ],
   "source": [
    "data = [\"data\", \"Analyst\"]\n",
    "\n",
    "upper = [_.upper() for _ in data]\n",
    "\n",
    "print(upper)"
   ]
  },
  {
   "cell_type": "code",
   "execution_count": null,
   "id": "68772df9-8f48-4faf-96fa-2f7749842aaf",
   "metadata": {},
   "outputs": [],
   "source": []
  }
 ],
 "metadata": {
  "kernelspec": {
   "display_name": "Python 3 (ipykernel)",
   "language": "python",
   "name": "python3"
  },
  "language_info": {
   "codemirror_mode": {
    "name": "ipython",
    "version": 3
   },
   "file_extension": ".py",
   "mimetype": "text/x-python",
   "name": "python",
   "nbconvert_exporter": "python",
   "pygments_lexer": "ipython3",
   "version": "3.11.7"
  }
 },
 "nbformat": 4,
 "nbformat_minor": 5
}
