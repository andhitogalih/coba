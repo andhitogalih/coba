{
 "cells": [
  {
   "cell_type": "markdown",
   "id": "b83f80c7-731b-473e-9a94-a9c41315621f",
   "metadata": {},
   "source": [
    "# **Data Type Python**"
   ]
  },
  {
   "cell_type": "markdown",
   "id": "21904eb5-9c6b-47f1-9f6d-e1b3c0da97a1",
   "metadata": {},
   "source": [
    "- List\n",
    "- Slicing\n",
    "- Tuple\n",
    "- Set\n",
    "- Dictionary"
   ]
  },
  {
   "cell_type": "markdown",
   "id": "59bf6e4f-6d8e-44c9-832f-58f907d930d1",
   "metadata": {
    "jp-MarkdownHeadingCollapsed": true
   },
   "source": [
    "## List [ ]"
   ]
  },
  {
   "cell_type": "code",
   "execution_count": 1,
   "id": "980eaceb-54f1-46a2-9263-edc4b5c1459e",
   "metadata": {},
   "outputs": [
    {
     "name": "stdout",
     "output_type": "stream",
     "text": [
      "[1, 2, 3, 'Delapan']\n"
     ]
    }
   ],
   "source": [
    "# List \n",
    "a = [1,2,3,\"Delapan\"]\n",
    "\n",
    "print (a)"
   ]
  },
  {
   "cell_type": "code",
   "execution_count": 2,
   "id": "72eef04a-829d-423d-a2de-0150436a3774",
   "metadata": {},
   "outputs": [
    {
     "data": {
      "text/plain": [
       "list"
      ]
     },
     "execution_count": 2,
     "metadata": {},
     "output_type": "execute_result"
    }
   ],
   "source": [
    "type(a)"
   ]
  },
  {
   "cell_type": "code",
   "execution_count": 3,
   "id": "6d09ec26-8b88-4987-a7a7-8715d17b7f15",
   "metadata": {},
   "outputs": [
    {
     "name": "stdout",
     "output_type": "stream",
     "text": [
      "['Avocado', 'Blackberry', 'Cherry']\n"
     ]
    }
   ],
   "source": [
    "# list \n",
    "list = [\"Avocado\", \"Blackberry\", \"cherry\"]\n",
    "\n",
    "print(list)"
   ]
  },
  {
   "cell_type": "code",
   "execution_count": 4,
   "id": "60bba1d4-fbb9-4b7f-90cf-e0054fc90b83",
   "metadata": {},
   "outputs": [
    {
     "data": {
      "text/plain": [
       "list"
      ]
     },
     "execution_count": 4,
     "metadata": {},
     "output_type": "execute_result"
    }
   ],
   "source": [
    "type(list)"
   ]
  },
  {
   "cell_type": "markdown",
   "id": "44e4ae0b-4555-4120-ae3d-8c8380181e14",
   "metadata": {},
   "source": [
    "**Slicing**"
   ]
  },
  {
   "cell_type": "code",
   "execution_count": 5,
   "id": "85b50e89-cdfd-4b63-96d9-0738b2872876",
   "metadata": {},
   "outputs": [
    {
     "data": {
      "text/plain": [
       "1"
      ]
     },
     "execution_count": 5,
     "metadata": {},
     "output_type": "execute_result"
    }
   ],
   "source": [
    "# olderr segment\n",
    "\n",
    "a[0]"
   ]
  },
  {
   "cell_type": "code",
   "execution_count": 6,
   "id": "ebc5b31a-fc21-4850-bdee-9d8cad89550f",
   "metadata": {},
   "outputs": [
    {
     "data": {
      "text/plain": [
       "2"
      ]
     },
     "execution_count": 6,
     "metadata": {},
     "output_type": "execute_result"
    }
   ],
   "source": [
    "a[1]"
   ]
  },
  {
   "cell_type": "code",
   "execution_count": 7,
   "id": "2900e7c2-bce0-422c-b28d-85c5f7043f92",
   "metadata": {},
   "outputs": [
    {
     "data": {
      "text/plain": [
       "3"
      ]
     },
     "execution_count": 7,
     "metadata": {},
     "output_type": "execute_result"
    }
   ],
   "source": [
    "a[2]"
   ]
  },
  {
   "cell_type": "code",
   "execution_count": 8,
   "id": "a467a804-6fc6-424e-8467-a18f18914b5f",
   "metadata": {},
   "outputs": [
    {
     "data": {
      "text/plain": [
       "'Delapan'"
      ]
     },
     "execution_count": 8,
     "metadata": {},
     "output_type": "execute_result"
    }
   ],
   "source": [
    "a[3]"
   ]
  },
  {
   "cell_type": "code",
   "execution_count": null,
   "id": "94b75620-7659-4e2f-8640-803a0d048700",
   "metadata": {},
   "outputs": [],
   "source": []
  },
  {
   "cell_type": "markdown",
   "id": "315b86fa-0b79-4ed5-87d2-0179d231f7e3",
   "metadata": {
    "jp-MarkdownHeadingCollapsed": true
   },
   "source": [
    "## Tuple ( ) "
   ]
  },
  {
   "cell_type": "code",
   "execution_count": 14,
   "id": "2ab9e617-f2f3-4391-a339-dd2af5d8bc26",
   "metadata": {},
   "outputs": [
    {
     "name": "stdout",
     "output_type": "stream",
     "text": [
      "('Avocado', 'Blackberry', 'Cherry')\n",
      "Data Type: <class 'tuple'>\n"
     ]
    }
   ],
   "source": [
    "Tuple = (\"Avocado\", \"Blackberry\", \"Cherry\")\n",
    "\n",
    "print(Tuple)\n",
    "print(\"Data Type: \" + str(type(Tuple)))"
   ]
  },
  {
   "cell_type": "markdown",
   "id": "48df3f93-213f-4ec6-a768-9b42336c814f",
   "metadata": {},
   "source": [
    "Seperti list, kita dapat melakukan slicing, namun pada tuple tidak dapat melakukan perubahan:"
   ]
  },
  {
   "cell_type": "code",
   "execution_count": 15,
   "id": "55cae384-1dfe-45f8-958c-31fec33298dd",
   "metadata": {},
   "outputs": [
    {
     "name": "stdout",
     "output_type": "stream",
     "text": [
      "Blackberry\n"
     ]
    }
   ],
   "source": [
    "print(Tuple[1]) "
   ]
  },
  {
   "cell_type": "code",
   "execution_count": 17,
   "id": "5a321ec4-6006-4c91-ab89-cb6e7e69daff",
   "metadata": {},
   "outputs": [
    {
     "name": "stdout",
     "output_type": "stream",
     "text": [
      "('Avocado', 'Blackberry')\n"
     ]
    }
   ],
   "source": [
    "print(Tuple[0:2]) "
   ]
  },
  {
   "cell_type": "code",
   "execution_count": 18,
   "id": "0c511811-9bfb-4329-86e5-3f54edbb1131",
   "metadata": {},
   "outputs": [
    {
     "ename": "SyntaxError",
     "evalue": "expression cannot contain assignment, perhaps you meant \"==\"? (3153180288.py, line 1)",
     "output_type": "error",
     "traceback": [
      "\u001b[1;36m  Cell \u001b[1;32mIn[18], line 1\u001b[1;36m\u001b[0m\n\u001b[1;33m    print(Tuple[0]=\"Aplle\")\u001b[0m\n\u001b[1;37m          ^\u001b[0m\n\u001b[1;31mSyntaxError\u001b[0m\u001b[1;31m:\u001b[0m expression cannot contain assignment, perhaps you meant \"==\"?\n"
     ]
    }
   ],
   "source": [
    "print(Tuple[0]=\"Aplle\")"
   ]
  },
  {
   "cell_type": "code",
   "execution_count": null,
   "id": "c01af2bb-e33b-4697-a695-5bfaf95a426e",
   "metadata": {},
   "outputs": [],
   "source": []
  },
  {
   "cell_type": "markdown",
   "id": "21d26507-430d-4668-acec-fb2d08b9cb75",
   "metadata": {
    "jp-MarkdownHeadingCollapsed": true
   },
   "source": [
    "## Set { }"
   ]
  },
  {
   "cell_type": "code",
   "execution_count": 29,
   "id": "36dd412a-f8c3-4ea6-8d59-1592b00d2104",
   "metadata": {},
   "outputs": [
    {
     "name": "stdout",
     "output_type": "stream",
     "text": [
      "{1, 10, 6, 9}\n",
      "Data Type: <class 'set'>\n"
     ]
    }
   ],
   "source": [
    "Set = {1,1,1,1,6,6,9,9,9,10,10,10}\n",
    "\n",
    "print(Set)\n",
    "print(\"Data Type: \" + str(type(Set)))"
   ]
  },
  {
   "cell_type": "markdown",
   "id": "df3132c6-5a04-4ad3-a3ad-be74e2cfee5e",
   "metadata": {
    "jp-MarkdownHeadingCollapsed": true
   },
   "source": [
    "## Union"
   ]
  },
  {
   "cell_type": "code",
   "execution_count": 19,
   "id": "299725ef-32ff-42d1-829e-539804134ec5",
   "metadata": {},
   "outputs": [
    {
     "name": "stdout",
     "output_type": "stream",
     "text": [
      "{1, 2, 3}\n"
     ]
    }
   ],
   "source": [
    "a = {1,2,3}\n",
    "\n",
    "print(a)"
   ]
  },
  {
   "cell_type": "code",
   "execution_count": 20,
   "id": "30bc6371-0425-4d4c-a0f0-77c9caad8341",
   "metadata": {},
   "outputs": [
    {
     "name": "stdout",
     "output_type": "stream",
     "text": [
      "{2, 3, 4, 5}\n"
     ]
    }
   ],
   "source": [
    "b = {2,3,4,5}\n",
    "\n",
    "print(b)"
   ]
  },
  {
   "cell_type": "code",
   "execution_count": 21,
   "id": "5ebc3c98-4367-495c-96eb-448a54c8a427",
   "metadata": {},
   "outputs": [
    {
     "data": {
      "text/plain": [
       "{1, 2, 3, 4, 5}"
      ]
     },
     "execution_count": 21,
     "metadata": {},
     "output_type": "execute_result"
    }
   ],
   "source": [
    "# Union\n",
    "a.union(b)"
   ]
  },
  {
   "cell_type": "markdown",
   "id": "0379ff1f-ee56-4511-a0b1-b550b1f47597",
   "metadata": {
    "jp-MarkdownHeadingCollapsed": true
   },
   "source": [
    "## Intersection"
   ]
  },
  {
   "cell_type": "code",
   "execution_count": 22,
   "id": "4401b941-a818-462c-9e37-d3a9af96db49",
   "metadata": {},
   "outputs": [
    {
     "data": {
      "text/plain": [
       "{2, 3}"
      ]
     },
     "execution_count": 22,
     "metadata": {},
     "output_type": "execute_result"
    }
   ],
   "source": [
    "# Intersection\n",
    "a.intersection(b)"
   ]
  },
  {
   "cell_type": "markdown",
   "id": "955dd65e-aea4-4a16-80d4-a0ce956268cc",
   "metadata": {
    "jp-MarkdownHeadingCollapsed": true
   },
   "source": [
    "## Dictionary"
   ]
  },
  {
   "cell_type": "code",
   "execution_count": 23,
   "id": "8c5a25c6-b8d6-4e80-ba5e-c84771139315",
   "metadata": {},
   "outputs": [
    {
     "name": "stdout",
     "output_type": "stream",
     "text": [
      "{'brand': 'Toyota', 'model': 'Alpard', 'year': 2021}\n",
      "Data Type: <class 'dict'>\n"
     ]
    }
   ],
   "source": [
    "Dict = {\n",
    "  \"brand\": \"Toyota\",\n",
    "  \"model\": \"Alpard\",\n",
    "  \"year\": 2021\n",
    "}\n",
    "\n",
    "print(Dict)\n",
    "print(\"Data Type: \" + str(type(Dict)))"
   ]
  },
  {
   "cell_type": "markdown",
   "id": "7d441e02-c165-4b70-ab05-2c9715676463",
   "metadata": {},
   "source": [
    "Nested Dictionary"
   ]
  },
  {
   "cell_type": "code",
   "execution_count": 25,
   "id": "1696acb0-1c2d-4008-98aa-275c30cb5a51",
   "metadata": {},
   "outputs": [
    {
     "name": "stdout",
     "output_type": "stream",
     "text": [
      "{'pathway': {'pathway_1': 'Data Analyst', 'pathway_2': 'UI/UX Desainer'}}\n",
      "Data Type: <class 'dict'>\n"
     ]
    }
   ],
   "source": [
    "DictDic = {\"pathway\": {\"pathway_1\" : \"Data Analyst\",\n",
    "                      \"pathway_2\" : \"UI/UX Desainer\"}\n",
    "}\n",
    "\n",
    "print(DictDic)\n",
    "print(\"Data Type: \" + str(type(DictDic)))"
   ]
  },
  {
   "cell_type": "code",
   "execution_count": 26,
   "id": "fee34479-ae66-4201-884d-ed4c137ccfcb",
   "metadata": {},
   "outputs": [
    {
     "data": {
      "text/plain": [
       "'Data Analyst'"
      ]
     },
     "execution_count": 26,
     "metadata": {},
     "output_type": "execute_result"
    }
   ],
   "source": [
    "DictDic['pathway']['pathway_1']"
   ]
  },
  {
   "cell_type": "code",
   "execution_count": 27,
   "id": "063f7cdf-3b8d-45fe-b007-0f4454b0c520",
   "metadata": {},
   "outputs": [
    {
     "data": {
      "text/plain": [
       "'UI/UX Desainer'"
      ]
     },
     "execution_count": 27,
     "metadata": {},
     "output_type": "execute_result"
    }
   ],
   "source": [
    "DictDic['pathway']['pathway_2']"
   ]
  },
  {
   "cell_type": "code",
   "execution_count": null,
   "id": "76ed5437-154d-4783-a47d-59b428da02ba",
   "metadata": {},
   "outputs": [],
   "source": []
  },
  {
   "cell_type": "markdown",
   "id": "eea29388-29f0-45bf-bd46-9229cc1ccb21",
   "metadata": {},
   "source": [
    "**Operator in Python**"
   ]
  },
  {
   "cell_type": "markdown",
   "id": "fd4c1ba3-94f3-4601-9363-4ceac7708240",
   "metadata": {},
   "source": [
    "- Summatio / Addition (x + y)\n",
    "- Subtraction          (x - y)\n",
    "- Multiplication       (x * y)\n",
    "- Division             (x / y)\n",
    "- Modulus              (x % y)\n",
    "- Exponentiation       (x ** y)\n",
    "- Floor division\t     (x // y)"
   ]
  },
  {
   "cell_type": "markdown",
   "id": "b1a4a0ab-878c-4fac-aeec-9d71c1b520e1",
   "metadata": {},
   "source": [
    "**Python Comparison Operators**"
   ]
  },
  {
   "cell_type": "markdown",
   "id": "ac166685-627e-446d-a700-b446f2d353cb",
   "metadata": {},
   "source": [
    "- Equal                    (==)\n",
    "- Not equal                (!=)\n",
    "- Greather than            (>)\n",
    "- Less Than                (<)\n",
    "- Greater than or equal to (>=)\n",
    "- Less than or equal to    (<=)"
   ]
  },
  {
   "cell_type": "code",
   "execution_count": 30,
   "id": "733322d4-acf6-4edf-9a55-4f1e7b40a95b",
   "metadata": {},
   "outputs": [
    {
     "data": {
      "text/plain": [
       "75"
      ]
     },
     "execution_count": 30,
     "metadata": {},
     "output_type": "execute_result"
    }
   ],
   "source": [
    "# Addition (Number)\n",
    "55 + 20"
   ]
  },
  {
   "cell_type": "code",
   "execution_count": 33,
   "id": "f8349629-8424-4f6d-86e3-3c9595f1eff8",
   "metadata": {},
   "outputs": [
    {
     "data": {
      "text/plain": [
       "'data'"
      ]
     },
     "execution_count": 33,
     "metadata": {},
     "output_type": "execute_result"
    }
   ],
   "source": [
    "# Addition (Text)\n",
    "'da' + 'ta'"
   ]
  },
  {
   "cell_type": "code",
   "execution_count": 31,
   "id": "70e3da1b-ea5d-4433-95f7-c78e6970e551",
   "metadata": {},
   "outputs": [
    {
     "data": {
      "text/plain": [
       "95"
      ]
     },
     "execution_count": 31,
     "metadata": {},
     "output_type": "execute_result"
    }
   ],
   "source": [
    "# Subtraction (Number) \n",
    "100 - 5 "
   ]
  },
  {
   "cell_type": "code",
   "execution_count": 32,
   "id": "0947b74f-da17-458c-8a53-b7395dc4a4d8",
   "metadata": {},
   "outputs": [
    {
     "ename": "TypeError",
     "evalue": "unsupported operand type(s) for -: 'str' and 'str'",
     "output_type": "error",
     "traceback": [
      "\u001b[1;31m---------------------------------------------------------------------------\u001b[0m",
      "\u001b[1;31mTypeError\u001b[0m                                 Traceback (most recent call last)",
      "Cell \u001b[1;32mIn[32], line 2\u001b[0m\n\u001b[0;32m      1\u001b[0m \u001b[38;5;66;03m# Subtraction (Text)   \u001b[39;00m\n\u001b[1;32m----> 2\u001b[0m \u001b[38;5;124m'\u001b[39m\u001b[38;5;124mda\u001b[39m\u001b[38;5;124m'\u001b[39m \u001b[38;5;241m-\u001b[39m \u001b[38;5;124m'\u001b[39m\u001b[38;5;124mta\u001b[39m\u001b[38;5;124m'\u001b[39m\n",
      "\u001b[1;31mTypeError\u001b[0m: unsupported operand type(s) for -: 'str' and 'str'"
     ]
    }
   ],
   "source": [
    "# Subtraction (Text)   \n",
    "'da' - 'ta'"
   ]
  },
  {
   "cell_type": "code",
   "execution_count": 36,
   "id": "89a44b28-9f25-4022-a54f-8d363e8c4325",
   "metadata": {},
   "outputs": [
    {
     "data": {
      "text/plain": [
       "45"
      ]
     },
     "execution_count": 36,
     "metadata": {},
     "output_type": "execute_result"
    }
   ],
   "source": [
    "# Multiplication (Number)\n",
    "5 * 9"
   ]
  },
  {
   "cell_type": "code",
   "execution_count": 35,
   "id": "fc76ea61-ebb9-4b4c-a038-63749d375c77",
   "metadata": {},
   "outputs": [
    {
     "data": {
      "text/plain": [
       "'HAIHAIHAI'"
      ]
     },
     "execution_count": 35,
     "metadata": {},
     "output_type": "execute_result"
    }
   ],
   "source": [
    "# Multiplication (Text)\n",
    "\n",
    "\"HAI\"*3"
   ]
  },
  {
   "cell_type": "code",
   "execution_count": 37,
   "id": "cf87c8b8-d6f8-40df-9097-2d986a834b47",
   "metadata": {},
   "outputs": [
    {
     "data": {
      "text/plain": [
       "8100"
      ]
     },
     "execution_count": 37,
     "metadata": {},
     "output_type": "execute_result"
    }
   ],
   "source": [
    "# Exponentiation (number)\n",
    "90 ** 2"
   ]
  },
  {
   "cell_type": "code",
   "execution_count": 38,
   "id": "08fa1bd5-b1f0-4a31-aaa7-b4f19f6c687e",
   "metadata": {},
   "outputs": [
    {
     "data": {
      "text/plain": [
       "7.5"
      ]
     },
     "execution_count": 38,
     "metadata": {},
     "output_type": "execute_result"
    }
   ],
   "source": [
    "# Division\n",
    "\n",
    "15 / 2"
   ]
  },
  {
   "cell_type": "code",
   "execution_count": 46,
   "id": "4767b385-fe98-4fe3-8fe1-0d236329e5b8",
   "metadata": {},
   "outputs": [
    {
     "data": {
      "text/plain": [
       "75"
      ]
     },
     "execution_count": 46,
     "metadata": {},
     "output_type": "execute_result"
    }
   ],
   "source": [
    "# Floor division\t     \n",
    "150 // 2"
   ]
  },
  {
   "cell_type": "code",
   "execution_count": 47,
   "id": "1aaf9d89-e95c-47e9-9e67-9e296f83b231",
   "metadata": {},
   "outputs": [
    {
     "data": {
      "text/plain": [
       "1"
      ]
     },
     "execution_count": 47,
     "metadata": {},
     "output_type": "execute_result"
    }
   ],
   "source": [
    "# Modulus\n",
    "11 % 2"
   ]
  },
  {
   "cell_type": "code",
   "execution_count": null,
   "id": "df21c15c-875d-4ce8-9508-49279aafc1ae",
   "metadata": {},
   "outputs": [],
   "source": []
  }
 ],
 "metadata": {
  "kernelspec": {
   "display_name": "Python 3 (ipykernel)",
   "language": "python",
   "name": "python3"
  },
  "language_info": {
   "codemirror_mode": {
    "name": "ipython",
    "version": 3
   },
   "file_extension": ".py",
   "mimetype": "text/x-python",
   "name": "python",
   "nbconvert_exporter": "python",
   "pygments_lexer": "ipython3",
   "version": "3.11.7"
  }
 },
 "nbformat": 4,
 "nbformat_minor": 5
}
