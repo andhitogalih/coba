{
 "cells": [
  {
   "cell_type": "markdown",
   "id": "a47f29ea-22c5-4f17-9b30-c57a315bfa34",
   "metadata": {},
   "source": [
    "# **Data Type Python**"
   ]
  },
  {
   "cell_type": "markdown",
   "id": "c1f1ad18-4bc3-4331-a869-0d1256acd616",
   "metadata": {},
   "source": [
    "A data type is an attribute associated with a piece of data that tells a computer system how to interpret its value."
   ]
  },
  {
   "cell_type": "markdown",
   "id": "6a3007fe-9abe-45c4-a0d8-be0c63d0a186",
   "metadata": {},
   "source": [
    "Python Data Types are used to define the type of a variable. It defines what type of data we are going to store in a variable. The data stored in memory can be of many types. \n",
    "\n",
    "\n",
    "1. Numbers\n",
    "2. String\n",
    "3. Boolean"
   ]
  },
  {
   "cell_type": "markdown",
   "id": "55f2fcde-d84c-4703-82a8-4e63bd309041",
   "metadata": {
    "jp-MarkdownHeadingCollapsed": true
   },
   "source": [
    "## Number"
   ]
  },
  {
   "cell_type": "markdown",
   "id": "24987505-b364-4317-8918-5b09a8af7aba",
   "metadata": {},
   "source": [
    "Number type numerik in python : int, float, complex\n",
    "- The integer data type is a numeric data type that holds whole numbers.\n",
    "- The float data type is used for variables that have fractional / decimal values.\n",
    "- Complex data types. It represents imaginary values."
   ]
  },
  {
   "cell_type": "code",
   "execution_count": 1,
   "id": "a8ae7be8-7ea1-41f8-bced-a5e9ab4283ee",
   "metadata": {},
   "outputs": [
    {
     "data": {
      "text/plain": [
       "int"
      ]
     },
     "execution_count": 1,
     "metadata": {},
     "output_type": "execute_result"
    }
   ],
   "source": [
    "# int\n",
    "a = 10\n",
    "\n",
    "type(a)"
   ]
  },
  {
   "cell_type": "code",
   "execution_count": 2,
   "id": "e093b5d7-0560-4681-b25a-dc6cc9278f06",
   "metadata": {},
   "outputs": [
    {
     "data": {
      "text/plain": [
       "float"
      ]
     },
     "execution_count": 2,
     "metadata": {},
     "output_type": "execute_result"
    }
   ],
   "source": [
    "# float\n",
    "a = 6.5\n",
    "\n",
    "type(a)"
   ]
  },
  {
   "cell_type": "code",
   "execution_count": 3,
   "id": "962fde64-7e44-4164-8e91-ea7bb369ca80",
   "metadata": {},
   "outputs": [
    {
     "name": "stdout",
     "output_type": "stream",
     "text": [
      "<class 'int'>\n",
      "<class 'float'>\n"
     ]
    }
   ],
   "source": [
    "# int vs float\n",
    "x = 10\n",
    "y = 10.0\n",
    "\n",
    "print (type(x))\n",
    "print (type(y))"
   ]
  },
  {
   "cell_type": "code",
   "execution_count": 7,
   "id": "934d3f3d-5c18-4efc-9b65-fa334bf0ecc4",
   "metadata": {},
   "outputs": [
    {
     "data": {
      "text/plain": [
       "complex"
      ]
     },
     "execution_count": 7,
     "metadata": {},
     "output_type": "execute_result"
    }
   ],
   "source": [
    "#complex\n",
    "c = 1 +2j\n",
    "\n",
    "type(c)"
   ]
  },
  {
   "cell_type": "markdown",
   "id": "bc45f99f-3134-4920-8bbd-c500234cabc4",
   "metadata": {
    "jp-MarkdownHeadingCollapsed": true
   },
   "source": [
    "## String"
   ]
  },
  {
   "cell_type": "markdown",
   "id": "91c896b1-fa87-4e88-b855-e20015cba8c0",
   "metadata": {},
   "source": [
    "String is a data structure in Python that represents a sequence of characters. It is an immutable data type,"
   ]
  },
  {
   "cell_type": "code",
   "execution_count": 8,
   "id": "e3fea272-d0f9-478f-adae-70f8900ec733",
   "metadata": {},
   "outputs": [
    {
     "name": "stdout",
     "output_type": "stream",
     "text": [
      "Hello Word\n"
     ]
    }
   ],
   "source": [
    "# String\n",
    "a = \"Hello Word\"\n",
    "\n",
    "print (a)"
   ]
  },
  {
   "cell_type": "code",
   "execution_count": 9,
   "id": "842243bc-e776-4544-b618-494f8fa7f084",
   "metadata": {},
   "outputs": [
    {
     "data": {
      "text/plain": [
       "str"
      ]
     },
     "execution_count": 9,
     "metadata": {},
     "output_type": "execute_result"
    }
   ],
   "source": [
    "type(a)"
   ]
  },
  {
   "cell_type": "markdown",
   "id": "b6f76acc-5da8-4fc0-964e-cb1cd9b77873",
   "metadata": {},
   "source": [
    "Strings in python are surrounded by either single quotation marks, or double quotation marks.\n",
    "\n",
    "'hello' is the same as \"hello\"."
   ]
  },
  {
   "cell_type": "code",
   "execution_count": 17,
   "id": "8242829c-381c-46e3-85f4-aa07ba92ccab",
   "metadata": {},
   "outputs": [
    {
     "name": "stdout",
     "output_type": "stream",
     "text": [
      "Hello\n",
      "\n",
      "Hello\n"
     ]
    }
   ],
   "source": [
    "a = \"Hello\"\n",
    "print(a)\n",
    "print(\"\")\n",
    "\n",
    "b = 'Hello'\n",
    "print(b)"
   ]
  },
  {
   "cell_type": "code",
   "execution_count": 10,
   "id": "c7ffedb8-df9c-4813-b104-0ce45c556b57",
   "metadata": {},
   "outputs": [
    {
     "name": "stdout",
     "output_type": "stream",
     "text": [
      "Bootcamp Data Analyst.\n",
      "Kampus Merdeka x MyEduSolve.\n",
      "Kelas B. \n"
     ]
    }
   ],
   "source": [
    "a = \"\"\"Bootcamp Data Analyst.\n",
    "Kampus Merdeka x MyEduSolve.\n",
    "Kelas B. \"\"\"\n",
    "\n",
    "print(a)"
   ]
  },
  {
   "cell_type": "code",
   "execution_count": 12,
   "id": "7db6d859-f32e-4f9b-8309-28154df4e1f3",
   "metadata": {},
   "outputs": [
    {
     "name": "stdout",
     "output_type": "stream",
     "text": [
      "Bootcamp Data Analyst \n",
      "Kampus Merdeka x MyEduSolve \n",
      "Kelas B. \n"
     ]
    }
   ],
   "source": [
    "a = \"\"\"Bootcamp Data Analyst \\nKampus Merdeka x MyEduSolve \\nKelas B. \"\"\"\n",
    "\n",
    "print(a)"
   ]
  },
  {
   "cell_type": "markdown",
   "id": "6341eb9a-1f82-49df-b31e-4dbc1347ad1a",
   "metadata": {
    "jp-MarkdownHeadingCollapsed": true
   },
   "source": [
    "## Boolean"
   ]
  },
  {
   "cell_type": "markdown",
   "id": "6a6e2bbe-bf21-45df-8445-43b0a08e9588",
   "metadata": {},
   "source": [
    "Boolean In programming you often need to know if an expression is True or False.\n",
    "When you compare two values, the expression is evaluated and Python returns the Boolean answer:"
   ]
  },
  {
   "cell_type": "code",
   "execution_count": 15,
   "id": "a4970b16-272b-491b-a233-dbd733d57446",
   "metadata": {},
   "outputs": [
    {
     "name": "stdout",
     "output_type": "stream",
     "text": [
      "True\n",
      "True\n",
      "False\n",
      "False\n",
      "True\n",
      "False\n"
     ]
    }
   ],
   "source": [
    "# Number\n",
    "print(15 > 9)\n",
    "print(10 == 10)\n",
    "print(7 < 5)\n",
    "\n",
    "#Text\n",
    "print(\"bit\" == \"Bit\")\n",
    "print(\"abjad\" > \"Abjad\")\n",
    "print(\"abjad\" > \"abjaf\")"
   ]
  },
  {
   "cell_type": "code",
   "execution_count": null,
   "id": "f0689b42-8826-4a3d-a1f9-0d443b49af36",
   "metadata": {},
   "outputs": [],
   "source": []
  }
 ],
 "metadata": {
  "kernelspec": {
   "display_name": "Python 3 (ipykernel)",
   "language": "python",
   "name": "python3"
  },
  "language_info": {
   "codemirror_mode": {
    "name": "ipython",
    "version": 3
   },
   "file_extension": ".py",
   "mimetype": "text/x-python",
   "name": "python",
   "nbconvert_exporter": "python",
   "pygments_lexer": "ipython3",
   "version": "3.11.7"
  }
 },
 "nbformat": 4,
 "nbformat_minor": 5
}
